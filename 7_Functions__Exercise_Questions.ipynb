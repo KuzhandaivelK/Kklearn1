{
  "cells": [
    {
      "cell_type": "markdown",
      "metadata": {
        "id": "view-in-github",
        "colab_type": "text"
      },
      "source": [
        "<a href=\"https://colab.research.google.com/github/KuzhandaivelK/Kklearn1/blob/main/7_Functions__Exercise_Questions.ipynb\" target=\"_parent\"><img src=\"https://colab.research.google.com/assets/colab-badge.svg\" alt=\"Open In Colab\"/></a>"
      ]
    },
    {
      "cell_type": "code",
      "execution_count": 1,
      "metadata": {
        "id": "eSjTMlfXOv2w"
      },
      "outputs": [],
      "source": [
        "# Write a function to hours to minutes , user should able to give hours as input\n",
        "\n",
        "# your Answer\n",
        "\n",
        "def hrstominscalc(x):\n",
        "    y = x*60\n",
        "    print(x,\"hours equals to\",y,\"minutes\")"
      ]
    },
    {
      "cell_type": "code",
      "execution_count": 2,
      "metadata": {
        "colab": {
          "base_uri": "https://localhost:8080/"
        },
        "id": "Tc7ljWZhOv29",
        "outputId": "87885295-8e7c-44ec-bca1-6b20e84936a1"
      },
      "outputs": [
        {
          "output_type": "stream",
          "name": "stdout",
          "text": [
            "2 hours equals to 120 minutes\n"
          ]
        }
      ],
      "source": [
        "hrstominscalc(2)"
      ]
    },
    {
      "cell_type": "code",
      "execution_count": 5,
      "metadata": {
        "colab": {
          "base_uri": "https://localhost:8080/"
        },
        "id": "FhzRZdGYOv3A",
        "outputId": "13b77e15-bb7c-49d4-ebe2-1fc6356bebad"
      },
      "outputs": [
        {
          "output_type": "stream",
          "name": "stdout",
          "text": [
            "560 centimeter equals to  0.56  Meter\n"
          ]
        }
      ],
      "source": [
        "# Write a function to convert centimeter to meter , user shoulb be able to give centimeter as input\n",
        "# your Answer\n",
        "\n",
        "\n",
        "def cmtometercalc(c):\n",
        "    m = c/1000\n",
        "    print(c ,\"centimeter equals to \", m,\" Meter\")\n",
        "\n",
        "cmtometercalc(560)\n",
        "\n",
        "\n",
        "\n",
        "\n",
        "\n"
      ]
    },
    {
      "cell_type": "code",
      "execution_count": 9,
      "metadata": {
        "colab": {
          "base_uri": "https://localhost:8080/"
        },
        "id": "Mf3Ft5gQOv3C",
        "outputId": "7cf34962-513f-45db-c7cb-229a87aeecfd"
      },
      "outputs": [
        {
          "output_type": "stream",
          "name": "stdout",
          "text": [
            "12 Miles equals to  19.31208  Kilometers\n"
          ]
        }
      ],
      "source": [
        "# Write a function to convert miles to Kilometer , user shoulb be able to give miles as input\n",
        "\n",
        "# your Answer\n",
        "\n",
        "def milestokilometer(m):\n",
        "    k = m * 1.60934\n",
        "    print(m ,\"Miles equals to \",k,\" Kilometers\")\n",
        "\n",
        "\n",
        "milestokilometer(12)\n",
        "\n",
        "\n",
        "\n",
        "\n"
      ]
    },
    {
      "cell_type": "code",
      "execution_count": 13,
      "metadata": {
        "colab": {
          "base_uri": "https://localhost:8080/"
        },
        "id": "-t2XYIyPOv3D",
        "outputId": "abeb1762-4c8a-4a04-acdf-7b7961053902"
      },
      "outputs": [
        {
          "output_type": "stream",
          "name": "stdout",
          "text": [
            "462  Pounds equals to  209.55967494  Kilograms\n"
          ]
        }
      ],
      "source": [
        "# Write a function to convert pounds to Kilogram , user shoulb be able to give pounds as input\n",
        "# your Answer\n",
        "\n",
        "def poundstokilogram(p):\n",
        "     k = p *0.45359237\n",
        "     print(p,\" Pounds equals to \",k,\" Kilograms\")\n",
        "\n",
        "poundstokilogram(462)\n",
        "\n",
        "\n"
      ]
    },
    {
      "cell_type": "code",
      "execution_count": 16,
      "metadata": {
        "colab": {
          "base_uri": "https://localhost:8080/"
        },
        "id": "1zM63o56Ov3E",
        "outputId": "942de613-0b89-4b78-bdfc-5bbe135a577e"
      },
      "outputs": [
        {
          "output_type": "stream",
          "name": "stdout",
          "text": [
            "26100.0 is the interest amount for  43500\n"
          ]
        }
      ],
      "source": [
        "# Write a function to calculate simple interest # all input shoulb be given by the user\n",
        "# your Answer\n",
        "\n",
        "def simpleintcalc(p,r,t):\n",
        "    I = (p*r*t)/100\n",
        "    print(I,\"is the interest amount for \",p)\n",
        "\n",
        "simpleintcalc(43500,12,5)\n",
        "\n"
      ]
    },
    {
      "cell_type": "code",
      "execution_count": 19,
      "metadata": {
        "colab": {
          "base_uri": "https://localhost:8080/"
        },
        "id": "PMTb9JqfOv3F",
        "outputId": "6e4a1925-afd8-4883-f2b7-4f62bc7dc5da"
      },
      "outputs": [
        {
          "output_type": "stream",
          "name": "stdout",
          "text": [
            "1256.636 is the areaof the circle ,when the radius is  20\n"
          ]
        }
      ],
      "source": [
        "# Write a function to calculate area of circle\n",
        "# your Answer\n",
        "\n",
        "def areofcircle(r):\n",
        "    a = 3.14159 * r * r\n",
        "    print(a,\"is the areaof the circle ,when the radius is \",r)\n",
        "\n",
        "areofcircle(20)\n",
        "\n",
        "\n",
        "\n",
        "\n",
        "\n"
      ]
    },
    {
      "cell_type": "code",
      "execution_count": null,
      "metadata": {
        "id": "bUpZ7NWHOv3G"
      },
      "outputs": [],
      "source": [
        "# Write a function to calculate circumference of circle\n",
        "# your Answer\n",
        "\n",
        "\n",
        "\n",
        "\n",
        "\n",
        "\n",
        "\n"
      ]
    },
    {
      "cell_type": "code",
      "execution_count": 20,
      "metadata": {
        "colab": {
          "base_uri": "https://localhost:8080/"
        },
        "id": "8mWwjfwDOv3H",
        "outputId": "1712647c-26c1-4711-ad7d-ffd83dbfcc06"
      },
      "outputs": [
        {
          "output_type": "stream",
          "name": "stdout",
          "text": [
            "The circumtances of circle having radius  12  is  75.39815999999999\n"
          ]
        }
      ],
      "source": [
        "# Write a function to calculate perimeter of square\n",
        "# your Answer\n",
        "\n",
        "def circumtanceofcircle(r):\n",
        "    c = 2*3.14159*r\n",
        "    print(\"The circumtances of circle having radius \", r, \" is \",c)\n",
        "\n",
        "circumtanceofcircle(12)\n",
        "\n",
        "\n",
        "\n",
        "\n",
        "\n"
      ]
    },
    {
      "cell_type": "code",
      "execution_count": 21,
      "metadata": {
        "colab": {
          "base_uri": "https://localhost:8080/"
        },
        "id": "keO5NMnYOv3J",
        "outputId": "ce191df7-57d7-4782-acc2-b1b0a207816b"
      },
      "outputs": [
        {
          "output_type": "stream",
          "name": "stdout",
          "text": [
            "400 is the areaof the square of having side as  20\n"
          ]
        }
      ],
      "source": [
        "# Write a fucntion to calculate area of square\n",
        "# your Answer\n",
        "\n",
        "\n",
        "def areofsquare(s):\n",
        "    a = s*s\n",
        "    print(a,\"is the areaof the square of having side as \",s)\n",
        "\n",
        "areofsquare(20)\n",
        "\n",
        "\n",
        "\n",
        "\n"
      ]
    },
    {
      "cell_type": "code",
      "execution_count": 27,
      "metadata": {
        "colab": {
          "base_uri": "https://localhost:8080/"
        },
        "id": "wr1rzvefOv3K",
        "outputId": "1a246ede-85a2-4018-d7b5-58a6b0a46632"
      },
      "outputs": [
        {
          "output_type": "stream",
          "name": "stdout",
          "text": [
            "80.0 is the areaof the triangle of having base as 20 and height as 8\n"
          ]
        }
      ],
      "source": [
        "# Write a function to area of traingle\n",
        "# your Answer\n",
        "\n",
        "\n",
        "\n",
        "def areoftriangle(b,h):\n",
        "    a = 1/2 * b* h\n",
        "    print(a,\"is the areaof the triangle of having base as\",b ,\"and height as\",h)\n",
        "\n",
        "areoftriangle(20,8)\n",
        "\n",
        "\n",
        "\n"
      ]
    }
  ],
  "metadata": {
    "kernelspec": {
      "display_name": "Python 3",
      "language": "python",
      "name": "python3"
    },
    "language_info": {
      "codemirror_mode": {
        "name": "ipython",
        "version": 3
      },
      "file_extension": ".py",
      "mimetype": "text/x-python",
      "name": "python",
      "nbconvert_exporter": "python",
      "pygments_lexer": "ipython3",
      "version": "3.7.3"
    },
    "colab": {
      "provenance": [],
      "include_colab_link": true
    }
  },
  "nbformat": 4,
  "nbformat_minor": 0
}